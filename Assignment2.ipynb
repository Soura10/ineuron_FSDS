{
 "cells": [
  {
   "cell_type": "markdown",
   "metadata": {},
   "source": [
    "# 1.What are the two values of the Boolean data type? How do you write them?"
   ]
  },
  {
   "cell_type": "raw",
   "metadata": {},
   "source": [
    "Ans:True and False are two values of boolean data types."
   ]
  },
  {
   "cell_type": "code",
   "execution_count": 2,
   "metadata": {},
   "outputs": [
    {
     "name": "stdout",
     "output_type": "stream",
     "text": [
      "True <class 'bool'>\n",
      "False <class 'bool'>\n"
     ]
    }
   ],
   "source": [
    "a=True\n",
    "b=False\n",
    "print(a,type(a))\n",
    "print(b,type(b))"
   ]
  },
  {
   "cell_type": "markdown",
   "metadata": {},
   "source": [
    "# 2. What are the three different types of Boolean operators?"
   ]
  },
  {
   "cell_type": "raw",
   "metadata": {},
   "source": [
    "1. Comparison operators: ==,<,>,!=,>=,<=\n"
   ]
  },
  {
   "cell_type": "raw",
   "metadata": {},
   "source": [
    ">>> a = 1\n",
    ">>> a == 1\n",
    "True\n",
    ">>> a != 10\n",
    "True\n",
    ">>> a != 1\n",
    "False\n",
    ">>> a > 10\n",
    "False\n",
    ">>> a < 12\n",
    "True\n",
    ">>> a >= 1\n",
    "True\n",
    ">>> a <= 7\n",
    "True"
   ]
  },
  {
   "cell_type": "raw",
   "metadata": {},
   "source": [
    "2.Binary Boolean Operators: and, or \n",
    "3. Not operator"
   ]
  },
  {
   "cell_type": "code",
   "execution_count": 3,
   "metadata": {},
   "outputs": [
    {
     "name": "stdout",
     "output_type": "stream",
     "text": [
      "False\n",
      "True\n",
      "False\n"
     ]
    }
   ],
   "source": [
    "a=100\n",
    "b=200\n",
    "print(a>200 and b>100)\n",
    "print(a>10 or b>300)\n",
    "print(not(a>20))"
   ]
  },
  {
   "cell_type": "markdown",
   "metadata": {},
   "source": [
    "# 3. Make a list of each Boolean operator's truth tables (i.e. every possible combination of Boolean values for the operator and what it evaluate ).\n"
   ]
  },
  {
   "cell_type": "markdown",
   "metadata": {},
   "source": [
    "# 4. What are the values of the following expressions?\n"
   ]
  },
  {
   "cell_type": "raw",
   "metadata": {},
   "source": [
    "(5 > 4) and (3 == 5)\n",
    "not (5 > 4)\n",
    "(5 > 4) or (3 == 5)\n",
    "not ((5 > 4) or (3 == 5))\n",
    "(True and True) and (True == False)\n"
   ]
  },
  {
   "cell_type": "code",
   "execution_count": 5,
   "metadata": {},
   "outputs": [
    {
     "data": {
      "text/plain": [
       "False"
      ]
     },
     "execution_count": 5,
     "metadata": {},
     "output_type": "execute_result"
    }
   ],
   "source": [
    "print((5 > 4) and (3 == 5))"
   ]
  },
  {
   "cell_type": "code",
   "execution_count": 9,
   "metadata": {},
   "outputs": [
    {
     "name": "stdout",
     "output_type": "stream",
     "text": [
      "False\n"
     ]
    }
   ],
   "source": [
    "print(not (5 > 4))"
   ]
  },
  {
   "cell_type": "code",
   "execution_count": 10,
   "metadata": {},
   "outputs": [
    {
     "name": "stdout",
     "output_type": "stream",
     "text": [
      "True\n"
     ]
    }
   ],
   "source": [
    "print((5 > 4) or (3 == 5))"
   ]
  },
  {
   "cell_type": "code",
   "execution_count": 11,
   "metadata": {},
   "outputs": [
    {
     "name": "stdout",
     "output_type": "stream",
     "text": [
      "False\n"
     ]
    }
   ],
   "source": [
    "print(not ((5 > 4) or (3 == 5)))"
   ]
  },
  {
   "cell_type": "code",
   "execution_count": 12,
   "metadata": {},
   "outputs": [
    {
     "name": "stdout",
     "output_type": "stream",
     "text": [
      "False\n"
     ]
    }
   ],
   "source": [
    "print((True and True) and (True == False))"
   ]
  },
  {
   "cell_type": "markdown",
   "metadata": {},
   "source": [
    "# 5. What are the six comparison operators?"
   ]
  },
  {
   "cell_type": "raw",
   "metadata": {},
   "source": [
    "Comparison operators: ==,<,>,!=,>=,<="
   ]
  },
  {
   "cell_type": "markdown",
   "metadata": {},
   "source": [
    "# 6. How do you tell the difference between the equal to and assignment operators?Describe a condition and when you would use one.\n"
   ]
  },
  {
   "cell_type": "code",
   "execution_count": 15,
   "metadata": {},
   "outputs": [
    {
     "name": "stdout",
     "output_type": "stream",
     "text": [
      "hello\n"
     ]
    }
   ],
   "source": [
    "a=3 ##assignment \n",
    "if a==3: ##equal to opeartor\n",
    " print(\"hello\")"
   ]
  },
  {
   "cell_type": "markdown",
   "metadata": {},
   "source": [
    "# 7. Identify the three blocks in this code:"
   ]
  },
  {
   "cell_type": "raw",
   "metadata": {},
   "source": [
    "\n",
    "spam = 0\n",
    "if spam == 10:\n",
    "print('eggs')\n",
    "if spam > 5:\n",
    "print('bacon')\n",
    "else:\n",
    "print('ham')\n",
    "print('spam')\n",
    "print('spam')\n"
   ]
  },
  {
   "cell_type": "code",
   "execution_count": 20,
   "metadata": {},
   "outputs": [
    {
     "name": "stdout",
     "output_type": "stream",
     "text": [
      "ham\n",
      "spam\n",
      "spam\n"
     ]
    }
   ],
   "source": [
    "spam = 0\n",
    "if spam == 10:\n",
    "    print('eggs')  #block 1\n",
    "if spam > 5:\n",
    "    print('bacon')  #block2\n",
    "else:\n",
    "    print('ham')    #block3\n",
    "print('spam')\n",
    "print('spam')\n"
   ]
  },
  {
   "cell_type": "markdown",
   "metadata": {},
   "source": [
    "# 8. Write code that prints Hello if 1 is stored in spam, prints Howdy if 2 is stored in spam, and prints Greetings! if anything else is stored in spam.\n"
   ]
  },
  {
   "cell_type": "code",
   "execution_count": 23,
   "metadata": {},
   "outputs": [
    {
     "name": "stdout",
     "output_type": "stream",
     "text": [
      "Hello\n",
      "Howdy\n",
      "Greetings\n"
     ]
    }
   ],
   "source": [
    "def func(spam):\n",
    "    if spam==1:\n",
    "        print(\"Hello\")\n",
    "    elif spam==2:\n",
    "        print(\"Howdy\")\n",
    "    else:\n",
    "        print(\"Greetings\")\n",
    "    \n",
    "func(1)\n",
    "func(2)\n",
    "func(3)"
   ]
  },
  {
   "cell_type": "markdown",
   "metadata": {},
   "source": [
    "# 9.If your programme is stuck in an endless loop, what keys you’ll press?"
   ]
  },
  {
   "cell_type": "raw",
   "metadata": {},
   "source": [
    "ctrl+c"
   ]
  },
  {
   "cell_type": "markdown",
   "metadata": {},
   "source": [
    "# 10. How can you tell the difference between break and continue?\n"
   ]
  },
  {
   "cell_type": "raw",
   "metadata": {},
   "source": [
    "Ans: break statement will move the control outside of the loop if break condition satisfies but continue statement will move\n",
    "     the control starting of the loop."
   ]
  },
  {
   "cell_type": "markdown",
   "metadata": {},
   "source": [
    "# 11. In a for loop, what is the difference between range(10), range(0, 10), and range(0, 10, 1)?\n"
   ]
  },
  {
   "cell_type": "raw",
   "metadata": {},
   "source": [
    "range(10): calls from 0 to 9 excluding 10\n",
    "range(0, 10): explicitly tells the loop to start at 0\n",
    "range(0, 10, 1): explicitly tells the loop to increase the value 1 at each iteration\n"
   ]
  },
  {
   "cell_type": "markdown",
   "metadata": {},
   "source": [
    "# 12. Write a short program that prints the numbers 1 to 10 using a for loop. Then write an equivalent program that prints the numbers 1 to 10 using a while loop.\n"
   ]
  },
  {
   "cell_type": "code",
   "execution_count": 4,
   "metadata": {},
   "outputs": [
    {
     "name": "stdout",
     "output_type": "stream",
     "text": [
      "...using for loop..\n",
      "1 2 3 4 5 6 7 8 9 10 \n",
      "\n",
      "....using while loop...\n",
      "1 2 3 4 5 6 7 8 9 10 "
     ]
    }
   ],
   "source": [
    "print(\"...using for loop..\")\n",
    "for i in range(1,11,1):\n",
    "    print(i,end=\" \")\n",
    "print(\"\\n\")\n",
    "\n",
    "print(\"....using while loop...\")\n",
    "\n",
    "i=1\n",
    "while i<=10:\n",
    "    print(i,end=\" \")\n",
    "    i=i+1"
   ]
  },
  {
   "cell_type": "markdown",
   "metadata": {},
   "source": [
    "# 13. If you had a function named bacon() inside a module named spam, how would you call it after importing spam? "
   ]
  },
  {
   "cell_type": "raw",
   "metadata": {},
   "source": [
    "Ans:This function will be called with spam.bacon()"
   ]
  },
  {
   "cell_type": "code",
   "execution_count": 5,
   "metadata": {},
   "outputs": [
    {
     "name": "stdout",
     "output_type": "stream",
     "text": [
      " Volume in drive C has no label.\n",
      " Volume Serial Number is 6C15-0A53\n",
      "\n",
      " Directory of C:\\Users\\This Pc\n",
      "\n",
      "19-03-2022  23:03    <DIR>          .\n",
      "19-03-2022  23:03    <DIR>          ..\n",
      "07-02-2022  23:29    <DIR>          .conda\n",
      "07-02-2022  22:16                43 .condarc\n",
      "27-07-2017  15:29    <DIR>          .eclipse\n",
      "24-02-2018  14:20    <DIR>          .gradle\n",
      "24-02-2018  14:34    <DIR>          .idea\n",
      "16-07-2020  01:38    <DIR>          .idlerc\n",
      "19-03-2022  21:35    <DIR>          .ipynb_checkpoints\n",
      "02-08-2020  12:23    <DIR>          .ipython\n",
      "08-08-2020  10:37    <DIR>          .jupyter\n",
      "31-03-2021  03:28    <DIR>          .matplotlib\n",
      "22-07-2017  17:01    <DIR>          .oracle_jre_usage\n",
      "24-08-2018  21:34    <DIR>          .p2\n",
      "27-07-2017  15:11    <DIR>          .tooling\n",
      "11-08-2021  04:07           123,609 01-Principal Component Analysis.ipynb\n",
      "11-09-2021  03:59            25,930 11-9-21.ipynb\n",
      "01-04-2021  02:20            29,615 1-4-21.ipynb\n",
      "14-02-2022  22:56            14,382 14-2-22.ipynb\n",
      "15-02-2022  22:27               164 15-2-22-check.py\n",
      "16-01-2022  14:21             1,836 16-1-22.ipynb\n",
      "19-02-2022  11:10             9,334 19.3.1 mongoDB introduction.ipynb\n",
      "19-02-2022  11:13           557,270 19.3.2 pyMongo.ipynb\n",
      "19-02-2022  11:12            10,830 19.3.3 Atlas.ipynb\n",
      "19-02-2022  10:56               989 19-2-22_ineuron.ipynb\n",
      "29-06-2021  00:59            23,752 20-6-21.ipynb\n",
      "21-12-2021  23:01             8,903 21-12-21_ineuron.ipynb\n",
      "23-12-2021  22:45             5,088 23-12-21_ineuron.ipynb\n",
      "02-07-2021  13:00            39,256 24-5-21.ipynb\n",
      "31-03-2021  03:30            70,479 30-3-21.ipynb\n",
      "11-04-2021  17:17    <DIR>          3D Objects\n",
      "14-01-2022  10:56             1,051 8-1-22_ineuron.ipynb\n",
      "25-07-2020  02:18    <DIR>          anaconda3\n",
      "07-11-2017  15:22    <DIR>          AndroidStudioProjects\n",
      "18-03-2022  22:56             5,507 Assignment1.ipynb\n",
      "19-03-2022  23:03             8,972 Assignment2.ipynb\n",
      "20-08-2021  12:36            10,908 Assisted 1.ipynb\n",
      "20-08-2021  12:37             4,860 Assisted 2 (1).ipynb\n",
      "20-08-2021  12:38             4,860 Assisted 2 (2).ipynb\n",
      "20-08-2021  12:20             5,131 Assisted_2.ipynb\n",
      "24-09-2021  09:02           266,718 Comcast_telecom_complaints_data.csv\n",
      "11-04-2021  17:17    <DIR>          Contacts\n",
      "18-11-2020  09:19           340,733 DecisionTreesDiscussion.html\n",
      "19-02-2022  10:49    <DIR>          Desktop\n",
      "16-12-2021  22:32    <DIR>          Documents\n",
      "11-04-2021  17:17    <DIR>          Favorites\n",
      "17-09-2021  01:27           348,707 FinalProject1_Souradeep.Roy\n",
      "17-09-2021  01:28            27,648 finalproject1souradeep_roy (1).doc\n",
      "17-09-2021  01:25           348,751 FinalProject1Souradeep_Roy (1).ipynb\n",
      "18-11-2020  09:19           302,022 Horse-DT.html\n",
      "22-02-2022  12:40                 0 ineuron_Souradeep_20-2-22.db\n",
      "11-08-2021  04:01            89,236 Lesson_5_Project (2).ipynb\n",
      "11-04-2021  17:17    <DIR>          Links\n",
      "13-09-2021  12:11           250,553 mercedes-benz-greener-manufacturing-20210507-v5.ipynb\n",
      "11-04-2021  17:17    <DIR>          Music\n",
      "29-06-2021  01:07           294,377 NaiveBayes.html\n",
      "05-01-2021  21:40           296,976 Nov9_Regression_boston.html\n",
      "06-09-2020  11:29             6,393 Numpy Slicing and Indexing.ipynb\n",
      "06-09-2020  11:30            16,084 NumPy.ipynb\n",
      "05-08-2021  12:12    <DIR>          OneDrive\n",
      "11-04-2019  20:44         1,487,770 P_20190411_210324.jpg\n",
      "11-04-2021  17:17    <DIR>          Pictures\n",
      "11-11-2020  12:24           310,629 python_overview.ipynb\n",
      "20-12-2021  19:46             8,406 python_work.ipynb\n",
      "21-07-2017  16:52    <DIR>          Roaming\n",
      "11-04-2021  17:17    <DIR>          Saved Games\n",
      "11-04-2021  17:17    <DIR>          Searches\n",
      "25-09-2021  15:35           161,385 Souradeep_Roy_Project3.ipynb\n",
      "16-01-2022  12:35                 0 test.log\n",
      "19-03-2022  21:33             7,692 Untitled (1).ipynb\n",
      "23-08-2020  11:07               555 Untitled.ipynb\n",
      "12-09-2020  19:43             1,075 Untitled1.ipynb\n",
      "13-09-2021  11:57            44,074 Untitled10.ipynb\n",
      "25-10-2021  22:48               555 Untitled11.ipynb\n",
      "28-10-2021  19:32             5,412 Untitled12.ipynb\n",
      "21-12-2021  21:53             8,903 Untitled13.ipynb\n",
      "23-12-2021  21:07             5,088 Untitled14.ipynb\n",
      "13-01-2022  22:21               555 Untitled15.ipynb\n",
      "16-01-2022  13:19             1,836 Untitled16.ipynb\n",
      "13-02-2022  12:00             4,315 Untitled17.ipynb\n",
      "14-02-2022  22:44                72 Untitled18.ipynb\n",
      "15-02-2022  21:43                72 Untitled19.ipynb\n",
      "19-11-2020  07:19               612 Untitled2.ipynb\n",
      "15-02-2022  22:45            12,723 Untitled20.ipynb\n",
      "26-02-2022  11:28             7,231 Untitled21.ipynb\n",
      "01-03-2022  12:05                72 Untitled22.ipynb\n",
      "01-03-2022  13:02            42,757 Untitled23.ipynb\n",
      "18-03-2022  22:54             5,481 Untitled24.ipynb\n",
      "06-01-2021  17:00             1,374 Untitled3.ipynb\n",
      "30-03-2021  03:41            10,757 Untitled4.ipynb\n",
      "01-04-2021  01:41             1,739 Untitled5.ipynb\n",
      "23-05-2021  22:24            10,663 Untitled6.ipynb\n",
      "21-06-2021  18:20             4,384 Untitled7.ipynb\n",
      "11-09-2021  02:52            25,930 Untitled8.ipynb\n",
      "13-09-2021  05:31            14,694 Untitled9.ipynb\n",
      "11-04-2021  17:17    <DIR>          Videos\n",
      "27-09-2019  22:27         2,257,316 zomato.csv\n",
      "              68 File(s)      7,995,094 bytes\n",
      "              29 Dir(s)  104,826,986,496 bytes free\n"
     ]
    }
   ],
   "source": [
    "ls"
   ]
  },
  {
   "cell_type": "code",
   "execution_count": null,
   "metadata": {},
   "outputs": [],
   "source": []
  }
 ],
 "metadata": {
  "kernelspec": {
   "display_name": "Python 3",
   "language": "python",
   "name": "python3"
  },
  "language_info": {
   "codemirror_mode": {
    "name": "ipython",
    "version": 3
   },
   "file_extension": ".py",
   "mimetype": "text/x-python",
   "name": "python",
   "nbconvert_exporter": "python",
   "pygments_lexer": "ipython3",
   "version": "3.7.6"
  }
 },
 "nbformat": 4,
 "nbformat_minor": 5
}
